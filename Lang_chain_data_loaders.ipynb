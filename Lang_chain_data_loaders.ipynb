{
  "nbformat": 4,
  "nbformat_minor": 0,
  "metadata": {
    "colab": {
      "provenance": [],
      "authorship_tag": "ABX9TyOHk3clp6u4edxs2bUgDuqu",
      "include_colab_link": true
    },
    "kernelspec": {
      "name": "python3",
      "display_name": "Python 3"
    },
    "language_info": {
      "name": "python"
    }
  },
  "cells": [
    {
      "cell_type": "markdown",
      "metadata": {
        "id": "view-in-github",
        "colab_type": "text"
      },
      "source": [
        "<a href=\"https://colab.research.google.com/github/sateeshlevelup/Langchain/blob/main/Lang_chain_data_loaders.ipynb\" target=\"_parent\"><img src=\"https://colab.research.google.com/assets/colab-badge.svg\" alt=\"Open In Colab\"/></a>"
      ]
    },
    {
      "cell_type": "code",
      "execution_count": null,
      "metadata": {
        "id": "yd8S4mhOaz3k"
      },
      "outputs": [],
      "source": [
        "!pip install langchain_community\n",
        "!pip install bs4\n",
        "\n",
        "!pip install pypdf\n",
        "!pip install wikipedia\n",
        "!pip install arxiv\n",
        "!pip install ipykernal\n",
        "!pip install python-dotenv\n",
        "!pip install openai\n",
        "!pip install langchain"
      ]
    },
    {
      "cell_type": "code",
      "source": [
        "# csvfiles\n",
        "\n",
        "from langchain_community.document_loaders.csv_loader import CSVLoader\n",
        "\n",
        "loader = CSVLoader( '/content/movies.csv')\n",
        "\n",
        "\n",
        "data = loader.load()\n",
        "data"
      ],
      "metadata": {
        "id": "sQpoFxDocAug"
      },
      "execution_count": null,
      "outputs": []
    },
    {
      "cell_type": "code",
      "source": [
        "from langchain_community.document_loaders import TextLoader\n",
        "\n",
        "loader = TextLoader('/content/phuket.txt')\n",
        "data = loader.load()\n",
        "data\n",
        "\n"
      ],
      "metadata": {
        "id": "51md9bGZcchO"
      },
      "execution_count": null,
      "outputs": []
    },
    {
      "cell_type": "code",
      "source": [
        "%pip install -qU langchain_community beautifulsoup4"
      ],
      "metadata": {
        "id": "0eM45OaadtPu"
      },
      "execution_count": null,
      "outputs": []
    },
    {
      "cell_type": "code",
      "source": [
        "from langchain_community.document_loaders import WebBaseLoader\n",
        "\n",
        "loader = WebBaseLoader(\"https://levelupedu.net\")\n",
        "\n",
        "data = loader.load()\n",
        "data"
      ],
      "metadata": {
        "id": "yXl3D5rWd5MN"
      },
      "execution_count": null,
      "outputs": []
    },
    {
      "cell_type": "code",
      "source": [
        "loader_multiple_pages = WebBaseLoader([\"https://www.espn.com/\", \"https://google.com\"])\n",
        "\n",
        "docs = loader.load()\n",
        "print(len(docs))"
      ],
      "metadata": {
        "colab": {
          "base_uri": "https://localhost:8080/"
        },
        "id": "l4WNwqjceV-P",
        "outputId": "bc559b59-d7a4-461b-ed69-6a0ca397e0e7"
      },
      "execution_count": 13,
      "outputs": [
        {
          "output_type": "stream",
          "name": "stdout",
          "text": [
            "1\n"
          ]
        }
      ]
    },
    {
      "cell_type": "code",
      "source": [
        "from langchain_community.document_loaders import PyPDFLoader\n",
        "\n",
        "loader = PyPDFLoader(\n",
        "    \"/content/attention.pdf\",\n",
        ")\n",
        "\n",
        "data =loader.load()\n",
        "data"
      ],
      "metadata": {
        "id": "2mjn6KYgmFX4"
      },
      "execution_count": null,
      "outputs": []
    },
    {
      "cell_type": "code",
      "source": [
        "%pip install --upgrade --quiet  langchain-google-community[gcs]"
      ],
      "metadata": {
        "id": "qLy4rKPImGiF",
        "colab": {
          "base_uri": "https://localhost:8080/"
        },
        "outputId": "84728be0-b8fb-4f4c-d706-956d678f446b"
      },
      "execution_count": 18,
      "outputs": [
        {
          "output_type": "stream",
          "name": "stdout",
          "text": [
            "\u001b[2K   \u001b[90m━━━━━━━━━━━━━━━━━━━━━━━━━━━━━━━━━━━━━━━━\u001b[0m \u001b[32m13.1/13.1 MB\u001b[0m \u001b[31m67.7 MB/s\u001b[0m eta \u001b[36m0:00:00\u001b[0m\n",
            "\u001b[2K   \u001b[90m━━━━━━━━━━━━━━━━━━━━━━━━━━━━━━━━━━━━━━━━\u001b[0m \u001b[32m99.6/99.6 kB\u001b[0m \u001b[31m6.6 MB/s\u001b[0m eta \u001b[36m0:00:00\u001b[0m\n",
            "\u001b[?25h"
          ]
        }
      ]
    },
    {
      "cell_type": "code",
      "source": [
        "from langchain_google_community import GCSFileLoader"
      ],
      "metadata": {
        "id": "CjT-C1JXphwT"
      },
      "execution_count": 19,
      "outputs": []
    },
    {
      "cell_type": "code",
      "source": [
        "loader = GCSFileLoader(project_name=\"bustling-gate-427108-f5\", bucket=\"mydemoforloaders\", blob=\"googleplaystore.csv\")\n",
        "\n",
        "data =loader.load()\n",
        "data"
      ],
      "metadata": {
        "id": "QsiOenCRplkj"
      },
      "execution_count": null,
      "outputs": []
    },
    {
      "cell_type": "code",
      "source": [
        "from langchain_community.document_loaders import TwitterTweetLoader"
      ],
      "metadata": {
        "id": "Si0PD3MMqQ-c"
      },
      "execution_count": 21,
      "outputs": []
    },
    {
      "cell_type": "code",
      "source": [
        "loader = TwitterTweetLoader.from_bearer_token(\n",
        "    oauth2_bearer_token=\"AAAAAAAAAAAAAAAAAAAAAIFlzgEAAAAA7H5RyMWDBczKh8PRzR72PlaRRV4%3DsomtYhi3Vf3EJlqrWNlZ4RJtHQyLlT75r9hUN9Tz0PSFu4WlLi\",\n",
        "    twitter_users=[\"elonmusk\"],\n",
        "    number_tweets=50,  # Default value is 100\n",
        ")\n",
        "\n",
        "# Or load from access token and consumer keys\n",
        "# loader = TwitterTweetLoader.from_secrets(\n",
        "#     access_token='YOUR ACCESS TOKEN',\n",
        "#     access_token_secret='YOUR ACCESS TOKEN SECRET',\n",
        "#     consumer_key='YOUR CONSUMER KEY',\n",
        "#     consumer_secret='YOUR CONSUMER SECRET',\n",
        "#     twitter_users=['elonmusk'],\n",
        "#     number_tweets=50,\n",
        "# )\n",
        "\n",
        "#data =loader.load()\n",
        "data"
      ],
      "metadata": {
        "id": "ExOHuS0tqUeU"
      },
      "execution_count": null,
      "outputs": []
    },
    {
      "cell_type": "code",
      "source": [
        "from langchain_community.document_loaders import WeatherDataLoader\n",
        "\n",
        "loader = WeatherDataLoader(location=\"New York\",api_keys=\"your-key\",provider=\"openweathermap\")\n",
        "data =loader.load\n",
        "print(data)"
      ],
      "metadata": {
        "id": "GZlaY6f5s0fb"
      },
      "execution_count": null,
      "outputs": []
    },
    {
      "cell_type": "code",
      "source": [
        "from langchain_community.document_loaders import WikipediaLoader\n",
        "\n",
        "docs =WikipediaLoader(query=\"Elon Musk\",lang=\"en\",load_max_docs=2).load()\n",
        "\n",
        "len(docs)\n",
        "print(docs)"
      ],
      "metadata": {
        "colab": {
          "base_uri": "https://localhost:8080/"
        },
        "id": "kh87RwQItcQT",
        "outputId": "1557ea7f-071b-4563-8b02-f5ad41e007e6"
      },
      "execution_count": 24,
      "outputs": [
        {
          "output_type": "stream",
          "name": "stdout",
          "text": [
            "[Document(metadata={'title': 'Elon Musk', 'summary': \"Elon Reeve Musk ( EE-lon; born June 28, 1971) is a businessman known for his key roles in Tesla, Inc., SpaceX, and Twitter (which he rebranded as X). Since 2025, he has been a senior advisor to United States president Donald Trump and head of the Department of Government Efficiency (DOGE). Musk is the wealthiest person in the world; as of February 2025, Forbes estimates his net worth to be US$353 billion. \\nBorn to a prominent family in Pretoria, South Africa, Musk emigrated to Canada in 1989 and acquired its citizenship though his mother. He moved to the U.S. and graduated from the University of Pennsylvania before moving to California to pursue business ventures. In 1995, Musk co-founded the software company Zip2. After its sale in 1999, he co-founded X.com, an online payment company that later merged to form PayPal, which was acquired by eBay in 2002 for $1.5 billion. That year, Musk also became a U.S. citizen.\\nIn 2002, Musk founded SpaceX and became its CEO and chief engineer. The company has since led innovations in reusable rockets and commercial spaceflight. In 2004, Musk joined Tesla, Inc., as an early investor, and became its CEO and product architect in 2008; it has become a market leader in electric vehicles. In 2015, he co-founded OpenAI to advance artificial intelligence research, but left its board in 2018. In 2016, Musk co-founded Neuralink, a company focused on brain–computer interfaces, and in 2017 launched the Boring Company, which aims to develop tunnel transportation. Musk was named Time magazine's Person of the Year in 2021. In 2022, he acquired Twitter, implementing significant changes and rebranding it as X in 2023. In January 2025, he was appointed head of Trump's newly created DOGE.\\nMusk's political activities and views have made him a polarizing figure. He has been criticized for making unscientific and misleading statements, including COVID-19 misinformation, affirming antisemitic and transphobic comments, and promoting conspiracy theories. His acquisition of Twitter (now X) was controversial due to a subsequent increase in hate speech and the spread of misinformation on the service. He has engaged in political activities in several countries, including as a vocal and financial supporter of Trump. Musk was the largest donor in the 2024 U.S. presidential election and is a supporter of global far-right figures, causes, and political parties.\", 'source': 'https://en.wikipedia.org/wiki/Elon_Musk'}, page_content='Elon Reeve Musk ( EE-lon; born June 28, 1971) is a businessman known for his key roles in Tesla, Inc., SpaceX, and Twitter (which he rebranded as X). Since 2025, he has been a senior advisor to United States president Donald Trump and head of the Department of Government Efficiency (DOGE). Musk is the wealthiest person in the world; as of February 2025, Forbes estimates his net worth to be US$353 billion. \\nBorn to a prominent family in Pretoria, South Africa, Musk emigrated to Canada in 1989 and acquired its citizenship though his mother. He moved to the U.S. and graduated from the University of Pennsylvania before moving to California to pursue business ventures. In 1995, Musk co-founded the software company Zip2. After its sale in 1999, he co-founded X.com, an online payment company that later merged to form PayPal, which was acquired by eBay in 2002 for $1.5 billion. That year, Musk also became a U.S. citizen.\\nIn 2002, Musk founded SpaceX and became its CEO and chief engineer. The company has since led innovations in reusable rockets and commercial spaceflight. In 2004, Musk joined Tesla, Inc., as an early investor, and became its CEO and product architect in 2008; it has become a market leader in electric vehicles. In 2015, he co-founded OpenAI to advance artificial intelligence research, but left its board in 2018. In 2016, Musk co-founded Neuralink, a company focused on brain–computer interfaces, and in 2017 launched the Boring Company, which aims to develop tunnel transportation. Musk was named Time magazine\\'s Person of the Year in 2021. In 2022, he acquired Twitter, implementing significant changes and rebranding it as X in 2023. In January 2025, he was appointed head of Trump\\'s newly created DOGE.\\nMusk\\'s political activities and views have made him a polarizing figure. He has been criticized for making unscientific and misleading statements, including COVID-19 misinformation, affirming antisemitic and transphobic comments, and promoting conspiracy theories. His acquisition of Twitter (now X) was controversial due to a subsequent increase in hate speech and the spread of misinformation on the service. He has engaged in political activities in several countries, including as a vocal and financial supporter of Trump. Musk was the largest donor in the 2024 U.S. presidential election and is a supporter of global far-right figures, causes, and political parties.\\n\\n\\n== Early life ==\\n\\nElon Reeve Musk was born on June 28, 1971, in Pretoria, South Africa\\'s administrative capital. He is of British and Pennsylvania Dutch ancestry. His mother, Maye (née Haldeman), is a model and dietitian born in Saskatchewan, Canada, and raised in South Africa. His father, Errol Musk, is a South African electromechanical engineer, pilot, sailor, consultant, emerald dealer, and property developer, who partly owned a rental lodge at Timbavati Private Nature Reserve. Elon has a younger brother, Kimbal, a younger sister, Tosca, as well as four paternal half-siblings. Musk was raised in the Anglican Church, in which he was baptized.\\nThe Musk family was wealthy during Elon\\'s youth. Despite both Elon and Errol previously stating that Errol was a part owner of a Zambian emerald mine, in 2023, Errol recounted that the deal he made was to receive \"a portion of the emeralds produced at three small mines\". Errol was elected to the Pretoria City Council as a representative of the anti-apartheid Progressive Party and has said that his children shared their father\\'s dislike of apartheid.\\nAfter his parents divorced in 1980, Elon chose to live primarily with his father. Elon later regretted his decision and became estranged from his father. Elon has recounted trips to a wilderness school that he described as a \"paramilitary Lord of the Flies\" where \"bullying was a virtue\" and children were encouraged to fight over rations. In one incident, after an altercation with a fellow pupil, Elon was thrown down concrete steps and beaten severely, leading to him being hospit'), Document(metadata={'title': 'Elon Musk salute controversy', 'summary': 'On January 20, 2025, while speaking at a rally celebrating U.S. president Donald Trump\\'s second inauguration, businessman and political figure Elon Musk twice made a salute interpreted by some as a Nazi or the fascist Roman salute.\\nOn his own social media platform, X (formerly Twitter), Musk dismissed the accusations of Nazi sympathies, derided them as being politicized, and described them as a \"tired\" attack. The Anti-Defamation League defended Musk and argued that the gesture carried no significant meaning, but other Jewish organizations have condemned the gesture. Multiple European political parties demanded that Musk be banned from entering their countries. Neo-Nazi and white supremacist groups celebrated the salutes.\\n\\n', 'source': 'https://en.wikipedia.org/wiki/Elon_Musk_salute_controversy'}, page_content='On January 20, 2025, while speaking at a rally celebrating U.S. president Donald Trump\\'s second inauguration, businessman and political figure Elon Musk twice made a salute interpreted by some as a Nazi or the fascist Roman salute.\\nOn his own social media platform, X (formerly Twitter), Musk dismissed the accusations of Nazi sympathies, derided them as being politicized, and described them as a \"tired\" attack. The Anti-Defamation League defended Musk and argued that the gesture carried no significant meaning, but other Jewish organizations have condemned the gesture. Multiple European political parties demanded that Musk be banned from entering their countries. Neo-Nazi and white supremacist groups celebrated the salutes.\\n\\n\\n== Inauguration, speech, and gestures ==\\n\\nOn January 20, 2025, the second inauguration of Donald Trump took place after his victory in the 2024 United States presidential election. Many people were invited, including Elon Musk. Musk was influential to Trump\\'s campaign as the second-largest donor. Trump designated him to co-head the Department of Government Efficiency during Trump\\'s second presidency.\\nAfter the inauguration, Musk attended a celebratory rally at the Capital One Arena in Washington, D.C., where he thanked the attendees for voting for Trump. Musk jumped onto the stage, started throwing his hands in the air, and then began to dance. After he finished dancing, Musk placed his hand to his heart and extended his arm out above his head with his palm facing down, making a straight-arm gesture. He then turned around and repeated the gesture to the audience behind him. He then said, \"My heart goes out to you. It is thanks to you that the future of civilization is assured\" after he finished the gestures. My heart goes out to you is a phrase typically used to show \"sorrow or sympathy\" for someone, rather than an expression of thanks.\\n\\n\\n== Reactions ==\\n\\n\\n=== United States ===\\n\\nThe incident quickly sparked online comparisons to the Nazi salute. While watching the rally, CNN anchor Erin Burnett said that the action was \"striking\". Some commentators have attributed the gesture to Musk\\'s self-diagnosis of Asperger\\'s syndrome. Musk, however, has never been medically diagnosed with autism or Asperger\\'s syndrome. Several autistic people and therapists interviewed by journalist James McNaney of the Belfast Telegraph, have objected to the notion that being on the autism spectrum would cause Musk to make this gesture.\\nIn an article for The New York Times, Berlin bureau chief Katrin Bennhold wrote that \"it looked a lot like the salute used in Germany and fascist Italy\" but that \"a striking number of different interpretations began to circulate\", also drawing comparisons to the Bellamy salute. Scott Jennings, an American political strategist and CNN contributor, condemned critics who accused Musk of doing a Nazi salute. He stated that Musk\\'s critics are \"suffering from progression of Trump derangement syndrome\". He also referred to the controversy as a conspiracy theory.\\n\\nThe Anti-Defamation League came to Musk\\'s defense, stating in an X post: \"It seems that Elon Musk made an awkward gesture in a moment of enthusiasm, not a Nazi salute.\" However, former ADL national director Abraham Foxman described the gesture as a \"Heil Hitler Nazi salute\". Aaron Astor, a history professor at Tennessee\\'s Maryville College, defended the ADL\\'s stance on X, stating that it was \"not a Nazi salute\". Southern Poverty Law Center, a nonprofit organization specializing in civil rights, referred to it as an \"apparent Nazi salute\" and noted it had \"ignited a firestorm of controversy\". Several academics with expertise on extremism have agreed to describing the gesture as a Nazi salute. The Lemkin Institute for Genocide Prevention responded to the \"Nazi salute\" by issuing a red flag alert for genocide in the United States.\\nJerry Nadler, a Jewish Democratic congressman from Manhattan, called the gesture antisemitic. Alexandria Ocasio-Cortez, a p')]\n"
          ]
        }
      ]
    }
  ]
}