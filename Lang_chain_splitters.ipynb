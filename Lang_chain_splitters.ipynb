{
  "nbformat": 4,
  "nbformat_minor": 0,
  "metadata": {
    "colab": {
      "provenance": [],
      "authorship_tag": "ABX9TyNOIoEk7k2g56clctMu5nGz",
      "include_colab_link": true
    },
    "kernelspec": {
      "name": "python3",
      "display_name": "Python 3"
    },
    "language_info": {
      "name": "python"
    }
  },
  "cells": [
    {
      "cell_type": "markdown",
      "metadata": {
        "id": "view-in-github",
        "colab_type": "text"
      },
      "source": [
        "<a href=\"https://colab.research.google.com/github/sateeshlevelup/Langchain/blob/main/Lang_chain_splitters.ipynb\" target=\"_parent\"><img src=\"https://colab.research.google.com/assets/colab-badge.svg\" alt=\"Open In Colab\"/></a>"
      ]
    },
    {
      "cell_type": "code",
      "execution_count": 1,
      "metadata": {
        "id": "mQ91DrNfKj1_"
      },
      "outputs": [],
      "source": [
        "%pip install -qU langchain-text-splitters"
      ]
    },
    {
      "cell_type": "code",
      "source": [
        "# This is a long document we can split up.\n",
        "with open(\"/content/phuket.txt\") as f:\n",
        "    phuket = f.read()"
      ],
      "metadata": {
        "id": "TC7SzKyhQ9eP"
      },
      "execution_count": 2,
      "outputs": []
    },
    {
      "cell_type": "code",
      "source": [
        "from langchain_text_splitters import RecursiveCharacterTextSplitter"
      ],
      "metadata": {
        "id": "USCqkCn8RQAL"
      },
      "execution_count": 3,
      "outputs": []
    },
    {
      "cell_type": "code",
      "source": [
        "text_splitter = RecursiveCharacterTextSplitter(\n",
        "    # Set a really small chunk size, just to show.\n",
        "    chunk_size=100,\n",
        "    chunk_overlap=12,\n",
        "    length_function=len,\n",
        "    is_separator_regex=False,\n",
        ")"
      ],
      "metadata": {
        "id": "IJXIrFOIRZ5h"
      },
      "execution_count": 14,
      "outputs": []
    },
    {
      "cell_type": "code",
      "source": [
        "texts = text_splitter.create_documents([phuket])\n",
        "print(texts[0])\n",
        "print(texts[1])\n",
        "print(texts)"
      ],
      "metadata": {
        "colab": {
          "base_uri": "https://localhost:8080/"
        },
        "id": "nSPUE2c2Tuag",
        "outputId": "f7b353ac-4795-40ed-beaf-507d45edd806"
      },
      "execution_count": 8,
      "outputs": [
        {
          "output_type": "stream",
          "name": "stdout",
          "text": [
            "page_content='Ladies and gentlemen, let me take you on a journey to one of the most breathtaking and enchanting'\n",
            "page_content='to one of the most breathtaking and enchanting places in the world—Phuket, Thailand. Nestled in the'\n",
            "[Document(metadata={}, page_content='Ladies and gentlemen, let me take you on a journey to one of the most breathtaking and enchanting'), Document(metadata={}, page_content='to one of the most breathtaking and enchanting places in the world—Phuket, Thailand. Nestled in the'), Document(metadata={}, page_content='in the world—Phuket, Thailand. Nestled in the Andaman Sea, this island is not just a travel'), Document(metadata={}, page_content='the Andaman Sea, this island is not just a travel destination; it is a way of life, a rhythm that'), Document(metadata={}, page_content='destination; it is a way of life, a rhythm that pulses through the hearts of those who call it home'), Document(metadata={}, page_content='through the hearts of those who call it home and those who find themselves enchanted by its charm.'), Document(metadata={}, page_content='those who find themselves enchanted by its charm. Life in Phuket is a harmonious blend of tradition'), Document(metadata={}, page_content='Life in Phuket is a harmonious blend of tradition and modernity, where nature meets culture, and'), Document(metadata={}, page_content='and modernity, where nature meets culture, and where every sunrise and sunset paints a story of its'), Document(metadata={}, page_content='every sunrise and sunset paints a story of its own.'), Document(metadata={}, page_content='Imagine waking up to the sound of waves gently caressing the shore, a golden sun emerging from'), Document(metadata={}, page_content='caressing the shore, a golden sun emerging from behind the limestone cliffs, casting a warm glow'), Document(metadata={}, page_content='behind the limestone cliffs, casting a warm glow over the island. The morning air is fresh, laced'), Document(metadata={}, page_content='over the island. The morning air is fresh, laced with the scent of tropical flowers and the'), Document(metadata={}, page_content='laced with the scent of tropical flowers and the saltiness of the sea. In the quiet hours, locals'), Document(metadata={}, page_content='saltiness of the sea. In the quiet hours, locals and early risers can be seen practicing Tai Chi or'), Document(metadata={}, page_content='early risers can be seen practicing Tai Chi or yoga on the beach, finding their balance before the'), Document(metadata={}, page_content='on the beach, finding their balance before the hustle and bustle of the day begins. The fishermen'), Document(metadata={}, page_content='and bustle of the day begins. The fishermen are already out in the waters, casting their nets, a'), Document(metadata={}, page_content='already out in the waters, casting their nets, a practice as old as time, providing a glimpse into'), Document(metadata={}, page_content='practice as old as time, providing a glimpse into the island’s deep connection to the sea.'), Document(metadata={}, page_content='Phuket is a land of diversity. The old town, with its Sino-Portuguese architecture, is a testament'), Document(metadata={}, page_content=\"its Sino-Portuguese architecture, is a testament to the island's rich history. Walking through its\"), Document(metadata={}, page_content=\"to the island's rich history. Walking through its streets feels like stepping back in time, where\"), Document(metadata={}, page_content='streets feels like stepping back in time, where pastel-colored shophouses, ornate temples, and'), Document(metadata={}, page_content='pastel-colored shophouses, ornate temples, and lively markets tell the stories of traders from'), Document(metadata={}, page_content='lively markets tell the stories of traders from China, India, and Europe who once made this island'), Document(metadata={}, page_content='India, and Europe who once made this island their home. The aroma of street food fills the air,'), Document(metadata={}, page_content='home. The aroma of street food fills the air, tempting passersby with delicacies like Hokkien'), Document(metadata={}, page_content='tempting passersby with delicacies like Hokkien noodles, mango sticky rice, and the irresistible'), Document(metadata={}, page_content='noodles, mango sticky rice, and the irresistible grilled seafood fresh from the ocean.'), Document(metadata={}, page_content='But beyond its postcard-perfect scenery, Phuket is a place of contrast. The island boasts a'), Document(metadata={}, page_content='is a place of contrast. The island boasts a thriving nightlife, with Patong Beach standing as its'), Document(metadata={}, page_content='nightlife, with Patong Beach standing as its epicenter. As the sun sets, Bangla Road comes alive'), Document(metadata={}, page_content='As the sun sets, Bangla Road comes alive with neon lights, pulsating music, and a symphony of'), Document(metadata={}, page_content='neon lights, pulsating music, and a symphony of laughter and cheers. Bars, clubs, and street'), Document(metadata={}, page_content='of laughter and cheers. Bars, clubs, and street performances create an electrifying atmosphere that'), Document(metadata={}, page_content='create an electrifying atmosphere that draws party-goers from around the world. Yet, just a short'), Document(metadata={}, page_content='from around the world. Yet, just a short drive away, tranquility awaits in the form of hidden'), Document(metadata={}, page_content='away, tranquility awaits in the form of hidden beaches, quiet temples, and peaceful fishing'), Document(metadata={}, page_content='beaches, quiet temples, and peaceful fishing villages where life moves at a slower, more reflective'), Document(metadata={}, page_content='where life moves at a slower, more reflective pace.'), Document(metadata={}, page_content='For those who seek adventure, Phuket never disappoints. From diving in the crystal-clear waters of'), Document(metadata={}, page_content='From diving in the crystal-clear waters of the Similan Islands to exploring the secret caves of'), Document(metadata={}, page_content='Similan Islands to exploring the secret caves of Phang Nga Bay, the island offers endless'), Document(metadata={}, page_content='caves of Phang Nga Bay, the island offers endless opportunities to connect with nature. Jet skis,'), Document(metadata={}, page_content='opportunities to connect with nature. Jet skis, parasailing, and banana boat rides keep'), Document(metadata={}, page_content='Jet skis, parasailing, and banana boat rides keep thrill-seekers entertained, while elephant'), Document(metadata={}, page_content='keep thrill-seekers entertained, while elephant sanctuaries provide a chance to bond with'), Document(metadata={}, page_content='sanctuaries provide a chance to bond with Thailand’s gentle giants in an ethical and humane'), Document(metadata={}, page_content='Thailand’s gentle giants in an ethical and humane environment. The island is also home to Muay Thai'), Document(metadata={}, page_content='environment. The island is also home to Muay Thai training camps, where locals and visitors alike'), Document(metadata={}, page_content='training camps, where locals and visitors alike test their endurance in the art of Thai boxing, a'), Document(metadata={}, page_content=\"test their endurance in the art of Thai boxing, a sport deeply embedded in the nation's culture.\"), Document(metadata={}, page_content='Life in Phuket is also about spirituality and mindfulness. The island is dotted with Buddhist'), Document(metadata={}, page_content='mindfulness. The island is dotted with Buddhist temples, each offering a space for reflection and'), Document(metadata={}, page_content='temples, each offering a space for reflection and inner peace. Wat Chalong, the most revered temple'), Document(metadata={}, page_content='inner peace. Wat Chalong, the most revered temple on the island, attracts both locals and tourists'), Document(metadata={}, page_content='on the island, attracts both locals and tourists who come to pay their respects, light incense, and'), Document(metadata={}, page_content='come to pay their respects, light incense, and seek blessings. The Big Buddha, standing tall atop'), Document(metadata={}, page_content='blessings. The Big Buddha, standing tall atop Nakkerd Hill, is a symbol of serenity, its gaze'), Document(metadata={}, page_content='Nakkerd Hill, is a symbol of serenity, its gaze overlooking the land with quiet wisdom. For many,'), Document(metadata={}, page_content='overlooking the land with quiet wisdom. For many, visiting these sacred places provides a balance'), Document(metadata={}, page_content='visiting these sacred places provides a balance to the island’s fast-paced tourism and vibrant'), Document(metadata={}, page_content='to the island’s fast-paced tourism and vibrant energy.'), Document(metadata={}, page_content='Education and work in Phuket present a different rhythm of life. Many expatriates find themselves'), Document(metadata={}, page_content='rhythm of life. Many expatriates find themselves drawn to the island for its lifestyle, setting up'), Document(metadata={}, page_content='drawn to the island for its lifestyle, setting up businesses, working remotely, or teaching English'), Document(metadata={}, page_content='businesses, working remotely, or teaching English at local schools. The island’s international'), Document(metadata={}, page_content='at local schools. The island’s international schools offer a blend of Western and Thai education,'), Document(metadata={}, page_content='offer a blend of Western and Thai education, making it an attractive choice for families looking'), Document(metadata={}, page_content='it an attractive choice for families looking for a tropical yet enriching environment for their'), Document(metadata={}, page_content='a tropical yet enriching environment for their children. The hospitality industry thrives,'), Document(metadata={}, page_content='their children. The hospitality industry thrives, providing job opportunities in hotels, resorts,'), Document(metadata={}, page_content='providing job opportunities in hotels, resorts, restaurants, and tourism-related ventures, all'), Document(metadata={}, page_content='restaurants, and tourism-related ventures, all driven by the warm and welcoming nature of the Thai'), Document(metadata={}, page_content='by the warm and welcoming nature of the Thai people.'), Document(metadata={}, page_content='But life in Phuket is not without its challenges. The high cost of living compared to other parts'), Document(metadata={}, page_content='The high cost of living compared to other parts of Thailand can be a hurdle for some, particularly'), Document(metadata={}, page_content='Thailand can be a hurdle for some, particularly in the more touristy areas. Traffic congestion,'), Document(metadata={}, page_content='in the more touristy areas. Traffic congestion, especially during peak seasons, can be frustrating,'), Document(metadata={}, page_content='during peak seasons, can be frustrating, and the monsoon season brings heavy rains and occasional'), Document(metadata={}, page_content='monsoon season brings heavy rains and occasional floods. However, these are but minor'), Document(metadata={}, page_content='occasional floods. However, these are but minor inconveniences in the grand scheme of what the'), Document(metadata={}, page_content='inconveniences in the grand scheme of what the island offers—a quality of life that blends'), Document(metadata={}, page_content='the island offers—a quality of life that blends relaxation, excitement, and cultural richness in a'), Document(metadata={}, page_content='excitement, and cultural richness in a way few places can.'), Document(metadata={}, page_content='Phuket is more than a destination; it is an experience, a feeling, a lifestyle. Whether one is'), Document(metadata={}, page_content='a feeling, a lifestyle. Whether one is drawn to its pristine beaches, its rich history, its vibrant'), Document(metadata={}, page_content='pristine beaches, its rich history, its vibrant nightlife, or its spiritual retreats, there is'), Document(metadata={}, page_content='nightlife, or its spiritual retreats, there is something for everyone on this magical island. Some'), Document(metadata={}, page_content='for everyone on this magical island. Some come for a visit and never leave, enchanted by the'), Document(metadata={}, page_content='for a visit and never leave, enchanted by the island’s beauty and the kindness of its people. It is'), Document(metadata={}, page_content='beauty and the kindness of its people. It is a place where life moves to the rhythm of the tides,'), Document(metadata={}, page_content='where life moves to the rhythm of the tides, where each day brings a new adventure, and where the'), Document(metadata={}, page_content='each day brings a new adventure, and where the heart finds a home amidst the tropical paradise.'), Document(metadata={}, page_content='As the sun dips into the horizon, casting its fiery hues across the sky, one cannot help but feel'), Document(metadata={}, page_content='hues across the sky, one cannot help but feel grateful for the simple yet profound joys of life in'), Document(metadata={}, page_content='for the simple yet profound joys of life in Phuket. The laughter of children playing in the sand,'), Document(metadata={}, page_content='The laughter of children playing in the sand, the scent of sizzling street food, the rhythmic sound'), Document(metadata={}, page_content='scent of sizzling street food, the rhythmic sound of the waves, and the warmth of the people—all'), Document(metadata={}, page_content='of the waves, and the warmth of the people—all these elements come together to create a life that'), Document(metadata={}, page_content='elements come together to create a life that is as beautiful as the island itself. Phuket is not'), Document(metadata={}, page_content='as beautiful as the island itself. Phuket is not just a place; it is a state of being, a love'), Document(metadata={}, page_content='not just a place; it is a state of being, a love affair with nature, culture, and the endless'), Document(metadata={}, page_content='love affair with nature, culture, and the endless possibilities that each day brings.')]\n"
          ]
        }
      ]
    },
    {
      "cell_type": "code",
      "source": [
        "text_splitter.split_text(phuket)[:2]"
      ],
      "metadata": {
        "colab": {
          "base_uri": "https://localhost:8080/"
        },
        "id": "q1DdofewUy5c",
        "outputId": "690f7db4-b463-4b89-f6f0-76cb875afac7"
      },
      "execution_count": 15,
      "outputs": [
        {
          "output_type": "execute_result",
          "data": {
            "text/plain": [
              "['Ladies and gentlemen, let me take you on a journey to one of the most breathtaking and enchanting',\n",
              " 'enchanting places in the world—Phuket, Thailand. Nestled in the Andaman Sea, this island is not']"
            ]
          },
          "metadata": {},
          "execution_count": 15
        }
      ]
    },
    {
      "cell_type": "code",
      "source": [
        "# RecursiveCharacterTextSplitter first tries to split based on common separatrs\n",
        "like \"\\n\\n\", \"\\n\", \" \", .\" ? ! space"
      ],
      "metadata": {
        "id": "YzOlh8CVVZTz"
      },
      "execution_count": null,
      "outputs": []
    },
    {
      "cell_type": "code",
      "source": [
        "!pip install langchain_community"
      ],
      "metadata": {
        "id": "IkNHS237ZQy-"
      },
      "execution_count": null,
      "outputs": []
    },
    {
      "cell_type": "code",
      "source": [
        "from langchain_community.document_loaders import TextLoader\n",
        "from langchain_text_splitters import RecursiveCharacterTextSplitter\n",
        "\n",
        "loader = TextLoader(\"/content/phuket.txt\")\n",
        "documents = loader.load()\n",
        "text_splitter = RecursiveCharacterTextSplitter(chunk_size=250, chunk_overlap=75)\n",
        "docs = text_splitter.split_documents(documents)\n",
        "print(docs[1])"
      ],
      "metadata": {
        "colab": {
          "base_uri": "https://localhost:8080/"
        },
        "id": "5Xti7FcbZnVz",
        "outputId": "7a3fb45f-b2a4-41be-f7fd-54e51e892d79"
      },
      "execution_count": 23,
      "outputs": [
        {
          "output_type": "stream",
          "name": "stdout",
          "text": [
            "page_content='is not just a travel destination; it is a way of life, a rhythm that pulses through the hearts of those who call it home and those who find themselves enchanted by its charm. Life in Phuket is a harmonious blend of tradition and modernity, where' metadata={'source': '/content/phuket.txt'}\n"
          ]
        }
      ]
    },
    {
      "cell_type": "code",
      "source": [
        "# charcter Text Splitter\n",
        "\n",
        "# it will split stritly at a fixed charcter limit"
      ],
      "metadata": {
        "id": "xUkTRp2taimL"
      },
      "execution_count": null,
      "outputs": []
    },
    {
      "cell_type": "code",
      "source": [
        "from os import sep\n",
        "from langchain_text_splitters import CharacterTextSplitter\n",
        "\n",
        "text_splitter = CharacterTextSplitter(\n",
        "\n",
        "    chunk_size = 20,\n",
        "    chunk_overlap  = 5,\n",
        "    separator = \"\"\n",
        ")\n",
        "\n",
        "\n",
        "\n",
        "\n",
        "\n",
        "text = \" Phuket is one of the most beautiful travel destinations in the world\"\n",
        "chunks = text_splitter.split_text(text)\n",
        "print(chunks)"
      ],
      "metadata": {
        "colab": {
          "base_uri": "https://localhost:8080/"
        },
        "id": "tuCGuKi6d_PP",
        "outputId": "39d050af-77cd-4ed7-bf90-dc5cf6f58d3f"
      },
      "execution_count": 47,
      "outputs": [
        {
          "output_type": "stream",
          "name": "stdout",
          "text": [
            "['Phuket is one of th', 'of the most beautifu', 'utiful travel destin', 'estinations in the w', 'the world']\n"
          ]
        }
      ]
    },
    {
      "cell_type": "code",
      "source": [
        "# recursive Json Splitter\n",
        "# HTML Header text"
      ],
      "metadata": {
        "id": "-XqX02tAgnTn"
      },
      "execution_count": null,
      "outputs": []
    },
    {
      "cell_type": "code",
      "source": [
        "from langchain_text_splitters import HTMLHeaderTextSplitter\n",
        "\n",
        "html_string = \"\"\"\n",
        "<!DOCTYPE html>\n",
        "<html>\n",
        "<body>\n",
        "    <div>\n",
        "        <h1>Foo</h1>\n",
        "        <p>Some intro text about Foo.</p>\n",
        "        <div>\n",
        "            <h2>Bar main section</h2>\n",
        "            <p>Some intro text about Bar.</p>\n",
        "            <h3>Bar subsection 1</h3>\n",
        "            <p>Some text about the first subtopic of Bar.</p>\n",
        "            <h3>Bar subsection 2</h3>\n",
        "            <p>Some text about the second subtopic of Bar.</p>\n",
        "        </div>\n",
        "        <div>\n",
        "            <h2>Baz</h2>\n",
        "            <p>Some text about Baz</p>\n",
        "        </div>\n",
        "        <br>\n",
        "        <p>Some concluding text about Foo</p>\n",
        "    </div>\n",
        "</body>\n",
        "</html>\n",
        "\"\"\"\n",
        "\n",
        "headers_to_split_on = [\n",
        "    (\"h1\", \"Header 1\"),\n",
        "    (\"h2\", \"Header 2\"),\n",
        "    (\"h3\", \"Header 3\"),\n",
        "]\n",
        "\n",
        "html_splitter = HTMLHeaderTextSplitter(headers_to_split_on=headers_to_split_on)\n",
        "html_header_splits = html_splitter.split_text(html_string)\n",
        "html_header_splits"
      ],
      "metadata": {
        "colab": {
          "base_uri": "https://localhost:8080/"
        },
        "id": "tntKuY5BgwEj",
        "outputId": "400e6db9-8277-46e9-b342-10e61ba2d5aa"
      },
      "execution_count": 48,
      "outputs": [
        {
          "output_type": "execute_result",
          "data": {
            "text/plain": [
              "[Document(metadata={'Header 1': 'Foo'}, page_content='Foo'),\n",
              " Document(metadata={'Header 1': 'Foo'}, page_content='Some intro text about Foo.'),\n",
              " Document(metadata={'Header 1': 'Foo', 'Header 2': 'Bar main section'}, page_content='Bar main section'),\n",
              " Document(metadata={'Header 1': 'Foo', 'Header 2': 'Bar main section'}, page_content='Some intro text about Bar.'),\n",
              " Document(metadata={'Header 1': 'Foo', 'Header 2': 'Bar main section', 'Header 3': 'Bar subsection 1'}, page_content='Bar subsection 1'),\n",
              " Document(metadata={'Header 1': 'Foo', 'Header 2': 'Bar main section', 'Header 3': 'Bar subsection 1'}, page_content='Some text about the first subtopic of Bar.'),\n",
              " Document(metadata={'Header 1': 'Foo', 'Header 2': 'Bar main section', 'Header 3': 'Bar subsection 2'}, page_content='Bar subsection 2'),\n",
              " Document(metadata={'Header 1': 'Foo', 'Header 2': 'Bar main section', 'Header 3': 'Bar subsection 2'}, page_content='Some text about the second subtopic of Bar.'),\n",
              " Document(metadata={'Header 1': 'Foo', 'Header 2': 'Baz'}, page_content='Baz'),\n",
              " Document(metadata={'Header 1': 'Foo'}, page_content='Some text about Baz  \\nSome concluding text about Foo')]"
            ]
          },
          "metadata": {},
          "execution_count": 48
        }
      ]
    },
    {
      "cell_type": "code",
      "source": [
        "{\n",
        "  \"order_id\": \"12345\",\n",
        "  \"customer\": {\n",
        "    \"customer_id\": \"C001\",\n",
        "    \"name\": \"John Doe\",\n",
        "    \"email\": \"johndoe@example.com\",\n",
        "    \"address\": {\n",
        "      \"street\": \"123 Main St\",\n",
        "      \"city\": \"New York\",\n",
        "      \"state\": \"NY\",\n",
        "      \"zip\": \"10001\",\n",
        "      \"country\": \"USA\"\n",
        "    }\n",
        "  },\n",
        "  \"items\": [\n",
        "    {\n",
        "      \"item_id\": \"P001\",\n",
        "      \"name\": \"Laptop\",\n",
        "      \"category\": \"Electronics\",\n",
        "      \"price\": 999.99,\n",
        "      \"quantity\": 1\n",
        "    },\n",
        "    {\n",
        "      \"item_id\": \"P002\",\n",
        "      \"name\": \"Wireless Mouse\",\n",
        "      \"category\": \"Accessories\",\n",
        "      \"price\": 25.50,\n",
        "      \"quantity\": 2\n",
        "    }\n",
        "  ],\n",
        "  \"payment\": {\n",
        "    \"method\": \"Credit Card\",\n",
        "    \"transaction_id\": \"TXN123456\",\n",
        "    \"status\": \"Completed\"\n",
        "  },\n",
        "  \"shipping\": {\n",
        "    \"method\": \"Express\",\n",
        "    \"tracking_number\": \"TRACK12345\",\n",
        "    \"status\": \"Shipped\",\n",
        "    \"estimated_delivery\": \"2025-03-05\"\n",
        "  },\n",
        "  \"order_status\": \"Processing\",\n",
        "  \"order_date\": \"2025-03-02T10:30:00Z\"\n",
        "}\n"
      ],
      "metadata": {
        "id": "mfztUFexhaVy"
      },
      "execution_count": null,
      "outputs": []
    },
    {
      "cell_type": "code",
      "source": [
        "import json\n",
        "\n",
        "import requests"
      ],
      "metadata": {
        "id": "KtCPCxRUhkDW"
      },
      "execution_count": 49,
      "outputs": []
    },
    {
      "cell_type": "code",
      "source": [
        "# This is a large nested json object and will be loaded as a python dict\n",
        "json_data = requests.get(\"https://api.smith.langchain.com/openapi.json\").json()"
      ],
      "metadata": {
        "id": "WuHCA0f5hnkT"
      },
      "execution_count": 50,
      "outputs": []
    },
    {
      "cell_type": "code",
      "source": [
        "from langchain_text_splitters import RecursiveJsonSplitter"
      ],
      "metadata": {
        "id": "F1DbaOI2hrL2"
      },
      "execution_count": 51,
      "outputs": []
    },
    {
      "cell_type": "code",
      "source": [
        "splitter = RecursiveJsonSplitter(max_chunk_size=300)"
      ],
      "metadata": {
        "id": "QsdkqPq3huN1"
      },
      "execution_count": 52,
      "outputs": []
    },
    {
      "cell_type": "code",
      "source": [
        "# The splitter can also output documents\n",
        "docs = splitter.create_documents(texts=[json_data])\n",
        "\n",
        "# or a list of strings\n",
        "texts = splitter.split_text(json_data=json_data)\n",
        "\n",
        "print(texts[0])\n",
        "print(texts[1])"
      ],
      "metadata": {
        "colab": {
          "base_uri": "https://localhost:8080/"
        },
        "id": "KnvTady_hxEr",
        "outputId": "3eff42a6-48c8-4839-fcc9-c63fcb5562ca"
      },
      "execution_count": 53,
      "outputs": [
        {
          "output_type": "stream",
          "name": "stdout",
          "text": [
            "{\"openapi\": \"3.1.0\", \"info\": {\"title\": \"LangSmith\", \"version\": \"0.1.0\"}, \"paths\": {\"/api/v1/sessions/{session_id}\": {\"get\": {\"tags\": [\"tracer-sessions\"], \"summary\": \"Read Tracer Session\", \"description\": \"Get a specific session.\"}}}}\n",
            "{\"paths\": {\"/api/v1/sessions/{session_id}\": {\"get\": {\"operationId\": \"read_tracer_session_api_v1_sessions__session_id__get\", \"security\": [{\"API Key\": []}, {\"Tenant ID\": []}, {\"Bearer Auth\": []}]}}}}\n"
          ]
        }
      ]
    }
  ]
}