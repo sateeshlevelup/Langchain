{
  "nbformat": 4,
  "nbformat_minor": 0,
  "metadata": {
    "colab": {
      "provenance": [],
      "authorship_tag": "ABX9TyOYOBUFWhnIyNhZGIlDoONd",
      "include_colab_link": true
    },
    "kernelspec": {
      "name": "python3",
      "display_name": "Python 3"
    },
    "language_info": {
      "name": "python"
    }
  },
  "cells": [
    {
      "cell_type": "markdown",
      "metadata": {
        "id": "view-in-github",
        "colab_type": "text"
      },
      "source": [
        "<a href=\"https://colab.research.google.com/github/sateeshlevelup/Langchain/blob/main/ChromaDb.ipynb\" target=\"_parent\"><img src=\"https://colab.research.google.com/assets/colab-badge.svg\" alt=\"Open In Colab\"/></a>"
      ]
    },
    {
      "cell_type": "code",
      "execution_count": null,
      "metadata": {
        "id": "cwPdf5VkLy7n"
      },
      "outputs": [],
      "source": [
        "pip install chromadb\n"
      ]
    },
    {
      "cell_type": "code",
      "source": [
        "import chromadb\n",
        "\n",
        "chroma_client = chromadb.Client()\n"
      ],
      "metadata": {
        "id": "g9JzX3QTMCxr"
      },
      "execution_count": 1,
      "outputs": []
    },
    {
      "cell_type": "code",
      "source": [
        "collection = chroma_client.create_collection(name=\"my_collection\")\n"
      ],
      "metadata": {
        "id": "bThusq_NMLIy"
      },
      "execution_count": 2,
      "outputs": []
    },
    {
      "cell_type": "code",
      "source": [
        "collection.upsert(\n",
        "    documents=[\n",
        "        \"This is a document about pineapple\",\n",
        "        \"This is a document about oranges\"\n",
        "    ],\n",
        "    ids=[\"id1\", \"id2\"]\n",
        ")\n"
      ],
      "metadata": {
        "id": "tqbKdbYXMWPh"
      },
      "execution_count": 7,
      "outputs": []
    },
    {
      "cell_type": "code",
      "source": [
        "results = collection.query(\n",
        "    query_texts=[\"This is a query document about hawaii\"], # Chroma will embed this for you\n",
        "    n_results=1 # how many results to return\n",
        ")\n",
        "print(results)\n"
      ],
      "metadata": {
        "colab": {
          "base_uri": "https://localhost:8080/"
        },
        "id": "8qVC9HsyMf1S",
        "outputId": "14c4ca7e-c257-430d-94a0-0df2e2d2570f"
      },
      "execution_count": 6,
      "outputs": [
        {
          "output_type": "stream",
          "name": "stdout",
          "text": [
            "{'ids': [['id1']], 'embeddings': None, 'documents': [['This is a document about pineapple']], 'uris': None, 'data': None, 'metadatas': [[None]], 'distances': [[1.0404009819030762]], 'included': [<IncludeEnum.distances: 'distances'>, <IncludeEnum.documents: 'documents'>, <IncludeEnum.metadatas: 'metadatas'>]}\n"
          ]
        }
      ]
    },
    {
      "cell_type": "code",
      "source": [
        "#add\n",
        "#upsert\n",
        "#update\n",
        "#Delete\n",
        "#query\n",
        "#get"
      ],
      "metadata": {
        "id": "K6VoW2DCNiDu"
      },
      "execution_count": null,
      "outputs": []
    },
    {
      "cell_type": "markdown",
      "source": [
        "Langchain & chromaDB"
      ],
      "metadata": {
        "id": "9xx8QNgYOeSn"
      }
    },
    {
      "cell_type": "code",
      "source": [
        "pip install langchain-chroma"
      ],
      "metadata": {
        "id": "UzNvpPniVUSf"
      },
      "execution_count": null,
      "outputs": []
    },
    {
      "cell_type": "code",
      "source": [
        "pip install langchain_community"
      ],
      "metadata": {
        "id": "6Vftxz52VeWQ"
      },
      "execution_count": null,
      "outputs": []
    },
    {
      "cell_type": "code",
      "source": [
        "pip install langchain_openai"
      ],
      "metadata": {
        "id": "UtaLDz2qOd_u"
      },
      "execution_count": null,
      "outputs": []
    },
    {
      "cell_type": "code",
      "source": [
        "import os\n",
        "import getpass\n",
        "os.environ['OPENAI_API_KEY'] = getpass.getpass('OpenAI API Key:')"
      ],
      "metadata": {
        "colab": {
          "base_uri": "https://localhost:8080/"
        },
        "id": "cgVFsTJRVqvu",
        "outputId": "3e66888c-a9f7-4eb5-acf3-71c9bcee0e19"
      },
      "execution_count": 15,
      "outputs": [
        {
          "name": "stdout",
          "output_type": "stream",
          "text": [
            "OpenAI API Key:··········\n"
          ]
        }
      ]
    },
    {
      "cell_type": "code",
      "source": [
        "from langchain_openai import OpenAIEmbeddings\n",
        "from langchain.text_splitter import CharacterTextSplitter\n",
        "from langchain_chroma import Chroma\n",
        "from langchain_community.document_loaders import TextLoader"
      ],
      "metadata": {
        "id": "DP52DAAFV722"
      },
      "execution_count": 16,
      "outputs": []
    },
    {
      "cell_type": "code",
      "source": [
        "raw_documents = TextLoader('/content/phuket.txt').load()\n",
        "text_splitter = CharacterTextSplitter(chunk_size=1000, chunk_overlap=100)\n",
        "documents = text_splitter.split_documents(raw_documents)\n",
        "db = Chroma.from_documents(documents, OpenAIEmbeddings())"
      ],
      "metadata": {
        "id": "HRX0phu4WOV1"
      },
      "execution_count": 17,
      "outputs": []
    },
    {
      "cell_type": "code",
      "source": [
        "query = \"i like adventures\"\n",
        "docs = db.similarity_search(query)\n",
        "print(docs[0].page_content)"
      ],
      "metadata": {
        "colab": {
          "base_uri": "https://localhost:8080/"
        },
        "id": "YlfzudfbWwkQ",
        "outputId": "3c83d06b-2422-47f9-c6ad-45aad4127e03"
      },
      "execution_count": 19,
      "outputs": [
        {
          "output_type": "stream",
          "name": "stdout",
          "text": [
            "For those who seek adventure, Phuket never disappoints. From diving in the crystal-clear waters of the Similan Islands to exploring the secret caves of Phang Nga Bay, the island offers endless opportunities to connect with nature. Jet skis, parasailing, and banana boat rides keep thrill-seekers entertained, while elephant sanctuaries provide a chance to bond with Thailand’s gentle giants in an ethical and humane environment. The island is also home to Muay Thai training camps, where locals and visitors alike test their endurance in the art of Thai boxing, a sport deeply embedded in the nation's culture.\n"
          ]
        }
      ]
    },
    {
      "cell_type": "code",
      "source": [
        "query = \"i like adventures\"\n",
        "docs = db.similarity_search(query,k=4)\n",
        "for doc in docs:\n",
        "  print(doc.page_content)\n",
        "  print(\"-\"*50)\n",
        "\n"
      ],
      "metadata": {
        "colab": {
          "base_uri": "https://localhost:8080/"
        },
        "id": "jFDa19dzX2_j",
        "outputId": "2c44cf18-5de4-4e49-b297-41478f20942f"
      },
      "execution_count": 21,
      "outputs": [
        {
          "output_type": "stream",
          "name": "stdout",
          "text": [
            "For those who seek adventure, Phuket never disappoints. From diving in the crystal-clear waters of the Similan Islands to exploring the secret caves of Phang Nga Bay, the island offers endless opportunities to connect with nature. Jet skis, parasailing, and banana boat rides keep thrill-seekers entertained, while elephant sanctuaries provide a chance to bond with Thailand’s gentle giants in an ethical and humane environment. The island is also home to Muay Thai training camps, where locals and visitors alike test their endurance in the art of Thai boxing, a sport deeply embedded in the nation's culture.\n",
            "--------------------------------------------------\n",
            "Ladies and gentlemen, let me take you on a journey to one of the most breathtaking and enchanting places in the world—Phuket, Thailand. Nestled in the Andaman Sea, this island is not just a travel destination; it is a way of life, a rhythm that pulses through the hearts of those who call it home and those who find themselves enchanted by its charm. Life in Phuket is a harmonious blend of tradition and modernity, where nature meets culture, and where every sunrise and sunset paints a story of its own.\n",
            "--------------------------------------------------\n",
            "Imagine waking up to the sound of waves gently caressing the shore, a golden sun emerging from behind the limestone cliffs, casting a warm glow over the island. The morning air is fresh, laced with the scent of tropical flowers and the saltiness of the sea. In the quiet hours, locals and early risers can be seen practicing Tai Chi or yoga on the beach, finding their balance before the hustle and bustle of the day begins. The fishermen are already out in the waters, casting their nets, a practice as old as time, providing a glimpse into the island’s deep connection to the sea.\n",
            "--------------------------------------------------\n",
            "Phuket is more than a destination; it is an experience, a feeling, a lifestyle. Whether one is drawn to its pristine beaches, its rich history, its vibrant nightlife, or its spiritual retreats, there is something for everyone on this magical island. Some come for a visit and never leave, enchanted by the island’s beauty and the kindness of its people. It is a place where life moves to the rhythm of the tides, where each day brings a new adventure, and where the heart finds a home amidst the tropical paradise.\n",
            "--------------------------------------------------\n"
          ]
        }
      ]
    },
    {
      "cell_type": "code",
      "source": [],
      "metadata": {
        "id": "BVIUWcgWaKmZ"
      },
      "execution_count": null,
      "outputs": []
    },
    {
      "cell_type": "markdown",
      "source": [
        "FAISS"
      ],
      "metadata": {
        "id": "TrwXiEnVZmBP"
      }
    },
    {
      "cell_type": "code",
      "source": [
        "pip install faiss-cpu"
      ],
      "metadata": {
        "colab": {
          "base_uri": "https://localhost:8080/"
        },
        "id": "KzVIXy9vaLD9",
        "outputId": "bfeb91a9-bfa1-47ab-a352-7e389a938049"
      },
      "execution_count": 23,
      "outputs": [
        {
          "output_type": "stream",
          "name": "stdout",
          "text": [
            "Collecting faiss-cpu\n",
            "  Downloading faiss_cpu-1.10.0-cp311-cp311-manylinux_2_28_x86_64.whl.metadata (4.4 kB)\n",
            "Requirement already satisfied: numpy<3.0,>=1.25.0 in /usr/local/lib/python3.11/dist-packages (from faiss-cpu) (1.26.4)\n",
            "Requirement already satisfied: packaging in /usr/local/lib/python3.11/dist-packages (from faiss-cpu) (24.2)\n",
            "Downloading faiss_cpu-1.10.0-cp311-cp311-manylinux_2_28_x86_64.whl (30.7 MB)\n",
            "\u001b[2K   \u001b[90m━━━━━━━━━━━━━━━━━━━━━━━━━━━━━━━━━━━━━━━━\u001b[0m \u001b[32m30.7/30.7 MB\u001b[0m \u001b[31m19.5 MB/s\u001b[0m eta \u001b[36m0:00:00\u001b[0m\n",
            "\u001b[?25hInstalling collected packages: faiss-cpu\n",
            "Successfully installed faiss-cpu-1.10.0\n"
          ]
        }
      ]
    },
    {
      "cell_type": "code",
      "source": [
        "from langchain_community.document_loaders import TextLoader\n",
        "from langchain_openai import OpenAIEmbeddings\n",
        "from langchain_text_splitters import CharacterTextSplitter\n",
        "from langchain_community.vectorstores import FAISS\n",
        "\n",
        "# Load the document, split it into chunks, embed each chunk and load it into the vector store.\n",
        "raw_documents = TextLoader('/content/phuket.txt').load()\n",
        "text_splitter = CharacterTextSplitter(chunk_size=1000, chunk_overlap=0)\n",
        "documents = text_splitter.split_documents(raw_documents)\n",
        "db = FAISS.from_documents(documents, OpenAIEmbeddings())"
      ],
      "metadata": {
        "id": "EUq5cxeDZpQC"
      },
      "execution_count": 24,
      "outputs": []
    },
    {
      "cell_type": "code",
      "source": [
        "query = \"i like adventures\"\n",
        "docs = db.similarity_search(query,k=4)\n",
        "for doc in docs:\n",
        "  print(doc.page_content)\n",
        "  print(\"-\"*50)\n"
      ],
      "metadata": {
        "colab": {
          "base_uri": "https://localhost:8080/"
        },
        "id": "q07WhfIMaQW1",
        "outputId": "9a1ca1a0-7b6c-447a-d77a-9f8a6df3718f"
      },
      "execution_count": 25,
      "outputs": [
        {
          "output_type": "stream",
          "name": "stdout",
          "text": [
            "For those who seek adventure, Phuket never disappoints. From diving in the crystal-clear waters of the Similan Islands to exploring the secret caves of Phang Nga Bay, the island offers endless opportunities to connect with nature. Jet skis, parasailing, and banana boat rides keep thrill-seekers entertained, while elephant sanctuaries provide a chance to bond with Thailand’s gentle giants in an ethical and humane environment. The island is also home to Muay Thai training camps, where locals and visitors alike test their endurance in the art of Thai boxing, a sport deeply embedded in the nation's culture.\n",
            "--------------------------------------------------\n",
            "Ladies and gentlemen, let me take you on a journey to one of the most breathtaking and enchanting places in the world—Phuket, Thailand. Nestled in the Andaman Sea, this island is not just a travel destination; it is a way of life, a rhythm that pulses through the hearts of those who call it home and those who find themselves enchanted by its charm. Life in Phuket is a harmonious blend of tradition and modernity, where nature meets culture, and where every sunrise and sunset paints a story of its own.\n",
            "--------------------------------------------------\n",
            "Imagine waking up to the sound of waves gently caressing the shore, a golden sun emerging from behind the limestone cliffs, casting a warm glow over the island. The morning air is fresh, laced with the scent of tropical flowers and the saltiness of the sea. In the quiet hours, locals and early risers can be seen practicing Tai Chi or yoga on the beach, finding their balance before the hustle and bustle of the day begins. The fishermen are already out in the waters, casting their nets, a practice as old as time, providing a glimpse into the island’s deep connection to the sea.\n",
            "--------------------------------------------------\n",
            "Phuket is more than a destination; it is an experience, a feeling, a lifestyle. Whether one is drawn to its pristine beaches, its rich history, its vibrant nightlife, or its spiritual retreats, there is something for everyone on this magical island. Some come for a visit and never leave, enchanted by the island’s beauty and the kindness of its people. It is a place where life moves to the rhythm of the tides, where each day brings a new adventure, and where the heart finds a home amidst the tropical paradise.\n",
            "--------------------------------------------------\n"
          ]
        }
      ]
    }
  ]
}